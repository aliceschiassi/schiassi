{
  "nbformat": 4,
  "nbformat_minor": 0,
  "metadata": {
    "colab": {
      "provenance": [],
      "include_colab_link": true
    },
    "kernelspec": {
      "name": "python3",
      "display_name": "Python 3"
    },
    "language_info": {
      "name": "python"
    }
  },
  "cells": [
    {
      "cell_type": "markdown",
      "metadata": {
        "id": "view-in-github",
        "colab_type": "text"
      },
      "source": [
        "<a href=\"https://colab.research.google.com/github/aliceschiassi/schiassi/blob/main/C%C3%B3pia_de_programa001.ipynb\" target=\"_parent\"><img src=\"https://colab.research.google.com/assets/colab-badge.svg\" alt=\"Open In Colab\"/></a>"
      ]
    },
    {
      "cell_type": "markdown",
      "source": [
        "**MEU PRIMEIRO PROGRAMA SEMESTRE 3**"
      ],
      "metadata": {
        "id": "HiH11hWBeW4g"
      }
    },
    {
      "cell_type": "code",
      "source": [
        "num = int(input(\"Digite um número inteiro: \"))\n",
        "\n",
        "if num % 3 == 0:\n",
        "  print(\"O número\", num, \"é par.\")\n",
        "else:\n",
        "  print(\"O número\", num, \"é impar\")\n"
      ],
      "metadata": {
        "id": "kBR1wc6biaPB",
        "outputId": "f6b9499e-6415-4a9a-d551-e2bc16bb5f39",
        "colab": {
          "base_uri": "https://localhost:8080/"
        }
      },
      "execution_count": null,
      "outputs": [
        {
          "output_type": "stream",
          "name": "stdout",
          "text": [
            "Digite um número inteiro: 26\n",
            "O número 26 é impar\n"
          ]
        }
      ]
    },
    {
      "cell_type": "code",
      "execution_count": null,
      "metadata": {
        "id": "JNAtWYJkdm4O",
        "colab": {
          "base_uri": "https://localhost:8080/"
        },
        "outputId": "9a6dd3bd-e5ef-4ddf-ec95-1d2a1e3f67c8"
      },
      "outputs": [
        {
          "output_type": "stream",
          "name": "stdout",
          "text": [
            "<class 'int'>\n",
            "<class 'int'>\n",
            "5\n"
          ]
        }
      ],
      "source": [
        "#COMENTÁRIO PHYTON\n",
        "A = 2\n",
        "print(type(A))\n",
        "B = 3\n",
        "print(type(B))\n",
        "SOMA = A+B\n",
        "#Soma de strings (entre aspas) concactena os valores, tipo \"2\" + \"3\" = 23\n",
        "print(SOMA)"
      ]
    },
    {
      "cell_type": "code",
      "source": [
        "num = int(input(\"digite um número: \"))\n",
        "print(type(num))\n",
        "quoc = num/2\n",
        "resto = num%2\n",
        "print(\"quociente: \", quoc)\n",
        "print(\"resto\", resto)"
      ],
      "metadata": {
        "colab": {
          "base_uri": "https://localhost:8080/"
        },
        "id": "HWuNwTEThsMI",
        "outputId": "4461601e-c1e4-4231-9fb9-ed9a1c365a55"
      },
      "execution_count": null,
      "outputs": [
        {
          "output_type": "stream",
          "name": "stdout",
          "text": [
            "digite um número: 9\n",
            "<class 'int'>\n",
            "quociente:  4.5\n",
            "resto 1\n"
          ]
        }
      ]
    },
    {
      "cell_type": "markdown",
      "source": [
        "**ATIVIDADE EXEMPLO 2**"
      ],
      "metadata": {
        "id": "M-Lh8XyvjYes"
      }
    },
    {
      "cell_type": "code",
      "source": [
        "base = float(input(\"indique o valor da base do triângulo, em metros: \"))\n",
        "altura = float(input(\"indique o valor da altura do triângulo, em metros: \"))\n",
        "area = float\n",
        "\n",
        "area = (base*altura)/2\n",
        "\n",
        "print(\"A área do tirângulo é de\", area, \"m\")"
      ],
      "metadata": {
        "colab": {
          "base_uri": "https://localhost:8080/"
        },
        "id": "6xm0Eup-jWkE",
        "outputId": "f6ec8b9f-efd0-41bf-853a-40e79ef37a40"
      },
      "execution_count": null,
      "outputs": [
        {
          "output_type": "stream",
          "name": "stdout",
          "text": [
            "indique o valor da base do triângulo, em metros: 8\n",
            "indique o valor da altura do triângulo, em metros: 16\n",
            "A área do tirângulo é de 64.0 m\n"
          ]
        }
      ]
    },
    {
      "cell_type": "markdown",
      "source": [
        "**ATIVIDADE EXEMPLO 3**"
      ],
      "metadata": {
        "id": "gYJRnTzfbmWs"
      }
    },
    {
      "cell_type": "code",
      "source": [
        "pol = float(input(\"Digite o valor em polegadas: \"))\n",
        "mil = pol*25.4\n",
        "print(pol, \"polegadas para milimetro é igual a\", mil)"
      ],
      "metadata": {
        "colab": {
          "base_uri": "https://localhost:8080/"
        },
        "id": "wCP8e7YwbsYz",
        "outputId": "d23478ef-6c68-4452-ca48-4b8a9450ba1e"
      },
      "execution_count": null,
      "outputs": [
        {
          "output_type": "stream",
          "name": "stdout",
          "text": [
            "Digite o valor em polegadas: 2\n",
            "2.0 polegadas para milimetro é igual a 50.8\n"
          ]
        }
      ]
    },
    {
      "cell_type": "markdown",
      "source": [
        "**EXERCÍCIOS 03/09/2024**"
      ],
      "metadata": {
        "id": "ekFFgXTyc6Ds"
      }
    },
    {
      "cell_type": "code",
      "source": [
        "#1\n",
        "\n",
        "r = float(input(\"digite o valor do raio:\"))\n",
        "v1 = 4*3.14159265*r*r*r\n",
        "v2 = v1/3\n",
        "print(\"O volume da esfera é:\", v2)"
      ],
      "metadata": {
        "colab": {
          "base_uri": "https://localhost:8080/"
        },
        "id": "RZh5Q_4wc5St",
        "outputId": "2d21a468-891e-4f09-8a6b-cc7debbc181a"
      },
      "execution_count": null,
      "outputs": [
        {
          "output_type": "stream",
          "name": "stdout",
          "text": [
            "digite o valor do raio:5\n",
            "O volume da esfera é: 523.598775\n"
          ]
        }
      ]
    },
    {
      "cell_type": "markdown",
      "source": [
        "**AULA 10/09/2024**"
      ],
      "metadata": {
        "id": "5nzlDOKweabx"
      }
    },
    {
      "cell_type": "code",
      "source": [
        "num = int(input(\"Digite um número inteiro: \"))\n",
        "\n",
        "if num % 2 == 0:\n",
        "  print(\"O número\", num, \"é par.\")\n",
        "else:\n",
        "  print(\"O número\", num, \"é impar\")"
      ],
      "metadata": {
        "id": "pSyBntsQeeSK"
      },
      "execution_count": null,
      "outputs": []
    },
    {
      "cell_type": "code",
      "source": [
        "import math\n",
        "\n",
        "num = float(input(\"Digite um número: \"))\n",
        "\n",
        "if num >= 0:\n",
        "     raiz_quadrada = math.sqrt(num)\n",
        "     print(f\"A raiz quadrada de {num} é igual a {raiz_quadrada:.2f}\")#\"f\" é utilizado para formatar a frase, no caso formatamos que entre a frase terá duas variáveis e que a segunda variável terá somente 2 casas decimais ({raiz_quadrada:.2f})\n",
        "else:\n",
        "    print(\"Não existe raiz real para esse número\")"
      ],
      "metadata": {
        "colab": {
          "base_uri": "https://localhost:8080/"
        },
        "id": "fXXj7WBQhWMR",
        "outputId": "8ded7037-453b-4e1a-ee9c-6a3ba214b288"
      },
      "execution_count": null,
      "outputs": [
        {
          "output_type": "stream",
          "name": "stdout",
          "text": [
            "Digite um número: -1\n",
            "Não existe raiz real para esse número\n"
          ]
        }
      ]
    },
    {
      "cell_type": "code",
      "source": [
        "comprimento = float(input(\"Digite o comprimento da camiseta em cm: \"))\n",
        "largura = float(input(\"Digite a largura da camiseta em cm: \"))\n",
        "\n",
        "if comprimento <= 60 and largura <= 45:\n",
        "    tamanho = \"PP\"\n",
        "elif comprimento <= 65 and largura <= 48:\n",
        "    tamanho = \"P\"\n",
        "elif comprimento <= 70 and largura <= 51:\n",
        "    tamanho = \"M\"\n",
        "elif comprimento <= 75 and largura <= 54:\n",
        "    tamanho = \"G\"\n",
        "elif comprimento <= 80 and largura <= 57:\n",
        "    tamanho = \"GG\"\n",
        "else:\n",
        "    tamanho = \"XGG\"\n",
        "\n",
        "print (f\"O tamanho da camiseta é {tamanho}.\")"
      ],
      "metadata": {
        "colab": {
          "base_uri": "https://localhost:8080/"
        },
        "id": "DmnAPELrl9kf",
        "outputId": "d1f78997-6216-4966-8075-7b1c63c70864"
      },
      "execution_count": null,
      "outputs": [
        {
          "output_type": "stream",
          "name": "stdout",
          "text": [
            "Digite o comprimento da camiseta em cm: 74\n",
            "Digite a largura da camiseta em cm: 53.9\n",
            "O tamanho da camiseta é G.\n"
          ]
        }
      ]
    },
    {
      "cell_type": "markdown",
      "source": [
        "**AULA 17/09/2024**"
      ],
      "metadata": {
        "id": "DQGQz2XQgtpZ"
      }
    },
    {
      "cell_type": "code",
      "source": [],
      "metadata": {
        "id": "dTursuhqgzTw"
      },
      "execution_count": null,
      "outputs": []
    }
  ]
}